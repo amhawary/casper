{
 "cells": [
  {
   "cell_type": "code",
   "execution_count": 1,
   "metadata": {},
   "outputs": [],
   "source": [
    "import numpy as np\n",
    "import pandas as pd\n",
    "import pickle as pkl\n",
    "import requests as req\n",
    "g_dict=pkl.load(open(\"g_dict.pkl\",\"rb\"))\n",
    "sp_dict=pkl.load(open(\"sp_dict.pkl\",\"rb\"))\n",
    "no2_dict=pkl.load(open(\"dates_dict.pkl\",\"rb\"))"
   ]
  },
  {
   "cell_type": "code",
   "execution_count": 2,
   "metadata": {},
   "outputs": [
    {
     "name": "stdout",
     "output_type": "stream",
     "text": [
      "186\n"
     ]
    }
   ],
   "source": [
    "import pprint\n",
    "pprint.pprint(len([i for i in g_dict.keys()]))"
   ]
  },
  {
   "cell_type": "code",
   "execution_count": 135,
   "metadata": {},
   "outputs": [
    {
     "data": {
      "text/plain": [
       "31575018"
      ]
     },
     "execution_count": 135,
     "metadata": {},
     "output_type": "execute_result"
    }
   ],
   "source": [
    "c2pop[\"Afghanistan\"]"
   ]
  },
  {
   "cell_type": "code",
   "execution_count": 3,
   "metadata": {},
   "outputs": [
    {
     "data": {
      "text/plain": [
       "dict_keys(['Afghanistan', 'Albania', 'Algeria', 'Andorra', 'Angola', 'Antigua and Barbuda', 'Argentina', 'Armenia', 'Australia', 'Austria', 'Azerbaijan', 'Bahamas', 'Bahrain', 'Bangladesh', 'Barbados', 'Belarus', 'Belgium', 'Belize', 'Benin', 'Bhutan', 'Bolivia', 'Bosnia and Herzegovina', 'Botswana', 'Brazil', 'Brunei Darussalam', 'Bulgaria', 'Burkina Faso', 'Burundi', 'Cambodia', 'Cameroon', 'Canada', 'Cape Verde', 'Central African Republic', 'Chad', 'Chile', 'China', 'Colombia', 'Comoros', 'Congo (Brazzaville)', 'Congo (Kinshasa)', 'Costa Rica', \"Côte d'Ivoire\", 'Croatia', 'Cuba', 'Cyprus', 'Czech Republic', 'Denmark', 'Djibouti', 'Dominica', 'Dominican Republic', 'Ecuador', 'Egypt', 'El Salvador', 'Equatorial Guinea', 'Eritrea', 'Estonia', 'Ethiopia', 'Fiji', 'Finland', 'France', 'Gabon', 'Gambia', 'Georgia', 'Germany', 'Ghana', 'Greece', 'Grenada', 'Guatemala', 'Guinea', 'Guinea-Bissau', 'Guyana', 'Haiti', 'Holy See (Vatican City State)', 'Honduras', 'Hungary', 'Iceland', 'India', 'Indonesia', 'Iran, Islamic Republic of', 'Iraq', 'Ireland', 'Israel', 'Italy', 'Jamaica', 'Japan', 'Jordan', 'Kazakhstan', 'Kenya', 'Korea (South)', 'Kuwait', 'Kyrgyzstan', 'Lao PDR', 'Latvia', 'Lebanon', 'Lesotho', 'Liberia', 'Libya', 'Liechtenstein', 'Lithuania', 'Luxembourg', 'Macedonia, Republic of', 'Madagascar', 'Malawi', 'Malaysia', 'Maldives', 'Mali', 'Malta', 'Mauritania', 'Mauritius', 'Mexico', 'Moldova', 'Monaco', 'Mongolia', 'Montenegro', 'Morocco', 'Mozambique', 'Myanmar', 'Namibia', 'Nepal', 'Netherlands', 'New Zealand', 'Nicaragua', 'Niger', 'Nigeria', 'Norway', 'Oman', 'Pakistan', 'Palestinian Territory', 'Panama', 'Papua New Guinea', 'Paraguay', 'Peru', 'Philippines', 'Poland', 'Portugal', 'Qatar', 'Republic of Kosovo', 'Romania', 'Russian Federation', 'Rwanda', 'Saint Kitts and Nevis', 'Saint Lucia', 'Saint Vincent and Grenadines', 'San Marino', 'Sao Tome and Principe', 'Saudi Arabia', 'Senegal', 'Serbia', 'Seychelles', 'Sierra Leone', 'Singapore', 'Slovakia', 'Slovenia', 'Somalia', 'South Africa', 'South Sudan', 'Spain', 'Sri Lanka', 'Sudan', 'Suriname', 'Swaziland', 'Sweden', 'Switzerland', 'Syrian Arab Republic (Syria)', 'Taiwan, Republic of China', 'Tajikistan', 'Tanzania, United Republic of', 'Thailand', 'Timor-Leste', 'Togo', 'Trinidad and Tobago', 'Tunisia', 'Turkey', 'Uganda', 'Ukraine', 'United Arab Emirates', 'United Kingdom', 'United States of America', 'Uruguay', 'Uzbekistan', 'Venezuela (Bolivarian Republic)', 'Viet Nam', 'Western Sahara', 'Yemen', 'Zambia', 'Zimbabwe'])"
      ]
     },
     "execution_count": 3,
     "metadata": {},
     "output_type": "execute_result"
    }
   ],
   "source": [
    "g_dict.keys()"
   ]
  },
  {
   "cell_type": "code",
   "execution_count": 4,
   "metadata": {},
   "outputs": [],
   "source": [
    "#a=req.get(\"https://simple.wikipedia.org/wiki/List_of_countries_and_dependencies_by_population\").content\n",
    "#open(\"pops.html\",\"wb+\").write(a)\n",
    "d=pd.read_html(\"pops.html\")"
   ]
  },
  {
   "cell_type": "code",
   "execution_count": 5,
   "metadata": {},
   "outputs": [],
   "source": [
    "pops_=d[0][[\"Country(or dependent territory)\",\"Population\"]]"
   ]
  },
  {
   "cell_type": "code",
   "execution_count": 7,
   "metadata": {
    "collapsed": true
   },
   "outputs": [
    {
     "name": "stdout",
     "output_type": "stream",
     "text": [
      "confused China[Note 1] China (8,) 1402870000\n",
      "confused India[Note 2] India (8,) 1363010000\n",
      "confused United States[Note 3] United States of America (10,) 331362000\n",
      "+added Indonesia Indonesia (0,) 268074600\n",
      "+added Brazil Brazil (0,) 211563000\n",
      "+added Pakistan Pakistan (0,) 208857000\n",
      "+added Nigeria Nigeria (0,) 200962417\n",
      "+added Bangladesh Bangladesh (0,) 168698000\n",
      "confused Russia[Note 4] Guinea (10,) 146793744\n",
      "+added Mexico Mexico (0,) 126577691\n",
      "+added Japan Japan (0,) 126200000\n",
      "+added Philippines Philippines (0,) 109483000\n",
      "+added Egypt Egypt (0,) 100605100\n",
      "+added Ethiopia Ethiopia (0,) 98665000\n",
      "confused Vietnam Viet Nam (1,) 95354000\n",
      "confused Democratic Republic of the Congo Taiwan, Republic of China (16,) 86727573\n",
      "+added Germany Germany (0,) 82979100\n",
      "confused Iran Iraq (1,) 83489300\n",
      "+added Turkey Turkey (0,) 82003882\n",
      "confused France[Note 5] France (8,) 66992000\n",
      "+added Thailand Thailand (0,) 66511080\n",
      "confused United Kingdom[Note 6] United Kingdom (8,) 66040229\n",
      "+added Italy Italy (0,) 60375749\n",
      "+added South Africa South Africa (0,) 57725600\n",
      "confused Tanzania[Note 7] Albania (11,) 55890747\n",
      "+added Myanmar Myanmar (0,) 54339766\n",
      "+added Kenya Kenya (0,) 52214791\n",
      "confused South Korea South Africa (4,) 51811167\n",
      "+added Colombia Colombia (0,) 49849818\n",
      "+added Spain Spain (0,) 46733038\n",
      "+added Argentina Argentina (0,) 44938712\n",
      "+added Algeria Algeria (0,) 43378027\n",
      "confused Ukraine[Note 8] Ukraine (8,) 42101650\n",
      "+added Sudan Sudan (0,) 42528282\n",
      "+added Uganda Uganda (0,) 40006700\n",
      "+added Iraq Iraq (0,) 39127900\n",
      "+added Poland Poland (0,) 38413000\n",
      "+added Canada Canada (0,) 37922800\n",
      "confused Morocco[Note 9] Morocco (8,) 35386900\n",
      "+added Uzbekistan Uzbekistan (0,) 34192718\n",
      "+added Saudi Arabia Saudi Arabia (0,) 33413660\n",
      "+added Malaysia Malaysia (0,) 33201700\n",
      "+added Peru Peru (0,) 32495510\n",
      "confused Venezuela Senegal (5,) 32219521\n",
      "+added Afghanistan Afghanistan (0,) 31575018\n",
      "+added Ghana Ghana (0,) 30280811\n",
      "+added Angola Angola (0,) 30175553\n",
      "+added Nepal Nepal (0,) 29609623\n",
      "+added Yemen Yemen (0,) 29579986\n",
      "+added Mozambique Mozambique (0,) 27909798\n",
      "confused Ivory Coast Morocco (7,) 25823071\n",
      "confused North Korea South Africa (6,) 25450000\n",
      "+added Australia Australia (0,) 25799100\n",
      "+added Madagascar Madagascar (0,) 25263000\n",
      "+added Cameroon Cameroon (0,) 24348251\n",
      "confused Taiwan[Note 10] Indonesia (11,) 23589192\n",
      "+added Niger Niger (0,) 22314743\n",
      "+added Sri Lanka Sri Lanka (0,) 21670112\n",
      "+added Burkina Faso Burkina Faso (0,) 20870060\n",
      "+added Mali Mali (0,) 19973000\n",
      "+added Romania Romania (0,) 19523621\n",
      "+added Chile Chile (0,) 19107216\n",
      "confused Syria Serbia (2,) 18499181\n",
      "+added Kazakhstan Kazakhstan (0,) 18710200\n",
      "+added Guatemala Guatemala (0,) 17679735\n",
      "+added Malawi Malawi (0,) 17563749\n",
      "+added Zambia Zambia (0,) 17381168\n",
      "+added Netherlands Netherlands (0,) 17402000\n",
      "+added Ecuador Ecuador (0,) 17495900\n",
      "+added Cambodia Cambodia (0,) 16289270\n",
      "+added Senegal Senegal (0,) 16209125\n",
      "+added Chad Chad (0,) 15692969\n",
      "confused Somalia[Note 11] Somalia (9,) 15636171\n",
      "+added Zimbabwe Zimbabwe (0,) 15159624\n",
      "+added South Sudan South Sudan (0,) 12778250\n",
      "+added Rwanda Rwanda (0,) 12374397\n",
      "+added Guinea Guinea (0,) 12218357\n",
      "+added Benin Benin (0,) 11733059\n",
      "+added Haiti Haiti (0,) 11577779\n",
      "+added Tunisia Tunisia (0,) 11551448\n",
      "+added Bolivia Bolivia (0,) 11469896\n",
      "+added Belgium Belgium (0,) 11463692\n",
      "+added Cuba Cuba (0,) 11221060\n",
      "+added Burundi Burundi (0,) 10953317\n",
      "+added Greece Greece (0,) 10741165\n",
      "+added Czech Republic Czech Republic (0,) 10649800\n",
      "+added Jordan Jordan (0,) 10691400\n",
      "+added Dominican Republic Dominican Republic (0,) 10358320\n",
      "+added Portugal Portugal (0,) 10291027\n",
      "+added Sweden Sweden (0,) 10255102\n",
      "+added Azerbaijan Azerbaijan (0,) 9981457\n",
      "+added Hungary Hungary (0,) 9778371\n",
      "+added United Arab Emirates United Arab Emirates (0,) 9682088\n",
      "+added Belarus Belarus (0,) 9465300\n",
      "+added Honduras Honduras (0,) 9158345\n",
      "+added Israel Israel (0,) 9202530\n",
      "+added Tajikistan Tajikistan (0,) 8931000\n",
      "+added Austria Austria (0,) 8859992\n",
      "+added Papua New Guinea Papua New Guinea (0,) 8558800\n",
      "+added Switzerland Switzerland (0,) 8542323\n",
      "+added Sierra Leone Sierra Leone (0,) 7901454\n",
      "+added Togo Togo (0,) 7538000\n",
      "confused Hong Kong (China) Congo (Kinshasa) (10,) 7482500\n",
      "+added Paraguay Paraguay (0,) 7152703\n",
      "confused Laos Gabon (3,) 7123205\n",
      "confused Serbia[Note 12] Serbia (9,) 7001444\n",
      "+added Bulgaria Bulgaria (0,) 7000039\n",
      "+added El Salvador El Salvador (0,) 6704864\n",
      "+added Libya Libya (0,) 6569864\n",
      "+added Nicaragua Nicaragua (0,) 6393824\n",
      "+added Kyrgyzstan Kyrgyzstan (0,) 6389500\n",
      "+added Lebanon Lebanon (0,) 6065922\n",
      "confused Turkmenistan Uzbekistan (5,) 5942561\n",
      "+added Denmark Denmark (0,) 5811413\n",
      "+added Singapore Singapore (0,) 5638700\n",
      "confused Republic of the Congo Republic of Kosovo (7,) 5542197\n",
      "+added Finland Finland (0,) 5518393\n",
      "+added Central African Republic Central African Republic (0,) 5496011\n",
      "+added Slovakia Slovakia (0,) 5450421\n",
      "+added Norway Norway (0,) 5334762\n",
      "+added Eritrea Eritrea (0,) 5309659\n",
      "+added Costa Rica Costa Rica (0,) 5058007\n",
      "confused Palestine Pakistan (4,) 4976684\n",
      "+added New Zealand New Zealand (0,) 5068840\n",
      "+added Ireland Ireland (0,) 4857000\n",
      "+added Oman Oman (0,) 4686829\n",
      "+added Liberia Liberia (0,) 4475353\n",
      "+added Kuwait Kuwait (0,) 4420110\n",
      "+added Panama Panama (0,) 4218808\n",
      "+added Croatia Croatia (0,) 4105493\n",
      "+added Mauritania Mauritania (0,) 4077347\n",
      "confused Georgia[Note 13] Georgia (9,) 3723500\n",
      "confused Moldova[Note 14] Moldova (9,) 3547539\n",
      "+added Uruguay Uruguay (0,) 3518552\n",
      "+added Bosnia and Herzegovina Bosnia and Herzegovina (0,) 3502550\n",
      "+added Mongolia Mongolia (0,) 3320097\n",
      "confused Puerto Rico (U.S.) Equatorial Guinea (12,) 3195153\n",
      "+added Armenia Armenia (0,) 2962100\n",
      "+added Albania Albania (0,) 2862427\n",
      "+added Lithuania Lithuania (0,) 2790472\n",
      "+added Qatar Qatar (0,) 2772294\n",
      "+added Jamaica Jamaica (0,) 2726667\n",
      "+added Namibia Namibia (0,) 2458936\n",
      "+added Botswana Botswana (0,) 2338851\n",
      "confused The Gambia Gambia (4,) 2228075\n",
      "+added Gabon Gabon (0,) 2109099\n",
      "+added Slovenia Slovenia (0,) 2080908\n",
      "confused North Macedonia Armenia (9,) 2075301\n",
      "+added Lesotho Lesotho (0,) 2007201\n",
      "+added Latvia Latvia (0,) 1915100\n",
      "confused Kosovo[Note 15] Comoros (12,) 1798506\n",
      "+added Guinea-Bissau Guinea-Bissau (0,) 1604528\n",
      "+added Bahrain Bahrain (0,) 1543300\n",
      "confused East Timor Estonia (6,) 1387149\n",
      "+added Trinidad and Tobago Trinidad and Tobago (0,) 1359193\n",
      "+added Equatorial Guinea Equatorial Guinea (0,) 1358276\n",
      "+added Estonia Estonia (0,) 1324820\n",
      "+added Mauritius Mauritius (0,) 1265577\n",
      "confused Eswatini Estonia (4,) 1093238\n",
      "+added Djibouti Djibouti (0,) 1078373\n",
      "+added Fiji Fiji (0,) 884887\n",
      "+added Comoros Comoros (0,) 873724\n",
      "+added Cyprus Cyprus (0,) 864200\n",
      "+added Guyana Guyana (0,) 786508\n",
      "+added Bhutan Bhutan (0,) 741672\n",
      "confused Solomon Islands Colombia (9,) 680806\n",
      "confused Macau (China) China (8,) 667400\n",
      "+added Montenegro Montenegro (0,) 622359\n",
      "+added Luxembourg Luxembourg (0,) 613894\n",
      "confused Western Sahara[Note 16] Western Sahara (9,) 582478\n",
      "+added Suriname Suriname (0,) 573085\n",
      "+added Cape Verde Cape Verde (0,) 550483\n",
      "+added Malta Malta (0,) 475701\n",
      "confused Transnistria[Note 17] Tajikistan (14,) 469000\n",
      "confused Brunei Burundi (2,) 421300\n",
      "+added Belize Belize (0,) 398050\n",
      "+added Bahamas Bahamas (0,) 385340\n",
      "+added Maldives Maldives (0,) 378114\n",
      "+added Iceland Iceland (0,) 358780\n",
      "confused Northern Cyprus[Note 18] Brunei Darussalam (18,) 351965\n",
      "confused Vanuatu Canada (4,) 304500\n",
      "+added Barbados Barbados (0,) 287010\n",
      "confused New Caledonia (France) New Zealand (14,) 282200\n",
      "confused French Polynesia (France) Congo (Kinshasa) (18,) 275918\n",
      "confused Abkhazia[Note 19] Afghanistan (12,) 244832\n",
      "confused São Tomé and Príncipe Sao Tome and Principe (3,) 201784\n",
      "confused Samoa Gabon (3,) 200874\n",
      "+added Saint Lucia Saint Lucia (0,) 180454\n",
      "confused Guam (U.S.) Gambia (8,) 172400\n",
      "confused Curaçao (Netherlands) Netherlands (10,) 160012\n",
      "confused Artsakh[Note 20] Argentina (12,) 148000\n",
      "confused Kiribati Croatia (5,) 120100\n",
      "confused Aruba (Netherlands) Netherlands (8,) 111849\n",
      "confused Saint Vincent and the Grenadines Saint Vincent and Grenadines (4,) 110520\n",
      "+added Grenada Grenada (0,) 108825\n",
      "confused Jersey (UK) Korea (South) (8,) 105500\n",
      "confused Federated States of Micronesia United States of America (14,) 105300\n",
      "confused United States Virgin Islands (U.S.) United States of America (19,) 104909\n",
      "+added Antigua and Barbuda Antigua and Barbuda (0,) 104084\n",
      "confused Tonga Togo (2,) 100300\n",
      "+added Seychelles Seychelles (0,) 96762\n",
      "confused Isle of Man (UK) Sri Lanka (11,) 83314\n",
      "+added Andorra Andorra (0,) 76177\n",
      "+added Dominica Dominica (0,) 74679\n",
      "confused Bermuda (UK) Belarus (8,) 64027\n",
      "confused Cayman Islands (UK) Afghanistan (13,) 63415\n",
      "confused Guernsey (UK) Germany (9,) 62063\n",
      "confused American Samoa (U.S.) Dominican Republic (15,) 56700\n",
      "confused Northern Mariana Islands (U.S.) Netherlands (21,) 56200\n",
      "+added Saint Kitts and Nevis Saint Kitts and Nevis (0,) 56345\n",
      "confused Greenland (Denmark) Denmark (12,) 55992\n",
      "confused Marshall Islands Afghanistan (9,) 55500\n",
      "confused South Ossetia[Note 21] South Sudan (13,) 53532\n",
      "confused Faroe Islands (Denmark) Denmark (16,) 51540\n",
      "confused Turks and Caicos Islands (UK) Saint Kitts and Nevis (20,) 41369\n",
      "confused Sint Maarten (Netherlands) Netherlands (15,) 40614\n",
      "+added Liechtenstein Liechtenstein (0,) 38380\n",
      "+added Monaco Monaco (0,) 38300\n",
      "confused Saint-Martin (France) San Marino (13,) 35746\n",
      "confused Gibraltar (UK) Belarus (9,) 34879\n",
      "+added San Marino San Marino (0,) 33422\n",
      "confused British Virgin Islands (UK) Netherlands (19,) 32206\n",
      "confused Palau Japan (3,) 17900\n",
      "confused Cook Islands (NZ) Congo (Kinshasa) (12,) 15200\n",
      "confused Anguilla (UK) Angola (8,) 15174\n",
      "confused Wallis and Futuna (France) Antigua and Barbuda (19,) 11700\n",
      "confused Nauru Peru (3,) 11000\n",
      "confused Tuvalu Cuba (4,) 10200\n",
      "confused Saint Barthélemy (France) Saint Kitts and Nevis (17,) 9793\n",
      "confused Saint Pierre and Miquelon (France) Saint Vincent and Grenadines (19,) 6008\n",
      "confused Saint Helena, Ascensionand Tristan da Cunha (UK) Saint Vincent and Grenadines (30,) 5633\n",
      "confused Montserrat (UK) Montenegro (10,) 5220\n",
      "confused Falkland Islands (UK) Afghanistan (14,) 3198\n",
      "confused Christmas Island (Australia) Antigua and Barbuda (18,) 1928\n",
      "confused Norfolk Island (Australia) Australia (17,) 1756\n",
      "confused Niue (NZ) Iceland (6,) 1520\n",
      "confused Tokelau (NZ) Iceland (8,) 1400\n",
      "confused Vatican City Albania (8,) 800\n",
      "confused Cocos (Keeling) Islands (Australia) Congo (Kinshasa) (23,) 538\n",
      "confused Pitcairn Islands (UK) Netherlands (14,) 50\n"
     ]
    }
   ],
   "source": [
    "c2pop_auto={}\n",
    "import Levenshtein as lev\n",
    "\n",
    "g_name=[i for i in g_dict.keys()]\n",
    "c=np.asarray(pops_)\n",
    "for i in c:\n",
    "    ds=[]\n",
    "    for g_n in g_name:\n",
    "        d = lev.distance(g_n.lower(),i[0].lower()),\n",
    "        ds.append(d)\n",
    "    closest_rel_idx=ds.index(min(ds))\n",
    "    if min(ds)[0]<1:\n",
    "        print(\"+added\",i[0],g_name[closest_rel_idx],min(ds),i[1])\n",
    "    else:\n",
    "        print(\"confused\",i[0],g_name[closest_rel_idx],min(ds),i[1])\n",
    "    if g_name[closest_rel_idx] not in c2pop_auto.keys():\n",
    "        c2pop_auto.update({g_name[closest_rel_idx]:i[1]})"
   ]
  },
  {
   "cell_type": "code",
   "execution_count": 35,
   "metadata": {},
   "outputs": [
    {
     "data": {
      "text/plain": [
       "dict_keys(['Afghanistan', 'Albania', 'Algeria', 'Andorra', 'Angola', 'Antigua and Barbuda', 'Argentina', 'Armenia', 'Australia', 'Austria', 'Azerbaijan', 'Bahamas', 'Bahrain', 'Bangladesh', 'Barbados', 'Belarus', 'Belgium', 'Belize', 'Benin', 'Bhutan', 'Bolivia', 'Bosnia and Herzegovina', 'Botswana', 'Brazil', 'Brunei Darussalam', 'Bulgaria', 'Burkina Faso', 'Burundi', 'Cambodia', 'Cameroon', 'Canada', 'Cape Verde', 'Central African Republic', 'Chad', 'Chile', 'China', 'Colombia', 'Comoros', 'Congo (Brazzaville)', 'Congo (Kinshasa)', 'Costa Rica', \"Côte d'Ivoire\", 'Croatia', 'Cuba', 'Cyprus', 'Czech Republic', 'Denmark', 'Djibouti', 'Dominica', 'Dominican Republic', 'Ecuador', 'Egypt', 'El Salvador', 'Equatorial Guinea', 'Eritrea', 'Estonia', 'Ethiopia', 'Fiji', 'Finland', 'France', 'Gabon', 'Gambia', 'Georgia', 'Germany', 'Ghana', 'Greece', 'Grenada', 'Guatemala', 'Guinea', 'Guinea-Bissau', 'Guyana', 'Haiti', 'Holy See (Vatican City State)', 'Honduras', 'Hungary', 'Iceland', 'India', 'Indonesia', 'Iran, Islamic Republic of', 'Iraq', 'Ireland', 'Israel', 'Italy', 'Jamaica', 'Japan', 'Jordan', 'Kazakhstan', 'Kenya', 'Korea (South)', 'Kuwait', 'Kyrgyzstan', 'Lao PDR', 'Latvia', 'Lebanon', 'Lesotho', 'Liberia', 'Libya', 'Liechtenstein', 'Lithuania', 'Luxembourg', 'Macedonia, Republic of', 'Madagascar', 'Malawi', 'Malaysia', 'Maldives', 'Mali', 'Malta', 'Mauritania', 'Mauritius', 'Mexico', 'Moldova', 'Monaco', 'Mongolia', 'Montenegro', 'Morocco', 'Mozambique', 'Myanmar', 'Namibia', 'Nepal', 'Netherlands', 'New Zealand', 'Nicaragua', 'Niger', 'Nigeria', 'Norway', 'Oman', 'Pakistan', 'Palestinian Territory', 'Panama', 'Papua New Guinea', 'Paraguay', 'Peru', 'Philippines', 'Poland', 'Portugal', 'Qatar', 'Republic of Kosovo', 'Romania', 'Russian Federation', 'Rwanda', 'Saint Kitts and Nevis', 'Saint Lucia', 'Saint Vincent and Grenadines', 'San Marino', 'Sao Tome and Principe', 'Saudi Arabia', 'Senegal', 'Serbia', 'Seychelles', 'Sierra Leone', 'Singapore', 'Slovakia', 'Slovenia', 'Somalia', 'South Africa', 'South Sudan', 'Spain', 'Sri Lanka', 'Sudan', 'Suriname', 'Swaziland', 'Sweden', 'Switzerland', 'Syrian Arab Republic (Syria)', 'Taiwan, Republic of China', 'Tajikistan', 'Tanzania, United Republic of', 'Thailand', 'Timor-Leste', 'Togo', 'Trinidad and Tobago', 'Tunisia', 'Turkey', 'Uganda', 'Ukraine', 'United Arab Emirates', 'United Kingdom', 'United States of America', 'Uruguay', 'Uzbekistan', 'Venezuela (Bolivarian Republic)', 'Viet Nam', 'Western Sahara', 'Yemen', 'Zambia', 'Zimbabwe'])"
      ]
     },
     "execution_count": 35,
     "metadata": {},
     "output_type": "execute_result"
    }
   ],
   "source": [
    "g_dict.keys()"
   ]
  },
  {
   "cell_type": "code",
   "execution_count": 73,
   "metadata": {},
   "outputs": [
    {
     "data": {
      "text/plain": [
       "dict_keys(['China', 'India', 'United States of America', 'Russian Federation', 'Viet Nam', 'Iran, Islamic Republic of', 'France', 'United Kingdom', 'Tanzania, United Republic of', 'Korea (South)', 'Ukraine', 'Morocco', 'Venezuela (Bolivarian Republic)', 'Syrian Arab Republic (Syria)', 'Somalia', 'Serbia', 'Moldova', 'Georgia', 'Gambia', 'Estonia', 'Brunei Darussalam', 'Congo (Brazzaville)', 'Swaziland', 'Palestinian Territory', 'Timor-Leste', 'Holy See (Vatican City State)', 'Lao PDR', 'Macedonia, Republic of', \"Côte d'Ivoire\", 'Indonesia', 'Brazil', 'Pakistan', 'Nigeria', 'Bangladesh', 'Guinea', 'Mexico', 'Japan', 'Philippines', 'Egypt', 'Ethiopia', 'Taiwan, Republic of China', 'Germany', 'Iraq', 'Turkey', 'Thailand', 'Italy', 'South Africa', 'Albania', 'Myanmar', 'Kenya', 'Colombia', 'Spain', 'Argentina', 'Algeria', 'Sudan', 'Uganda', 'Poland', 'Canada', 'Uzbekistan', 'Saudi Arabia', 'Malaysia', 'Peru', 'Senegal', 'Afghanistan', 'Ghana', 'Angola', 'Nepal', 'Yemen', 'Mozambique', 'Australia', 'Madagascar', 'Cameroon', 'Niger', 'Sri Lanka', 'Burkina Faso', 'Mali', 'Romania', 'Chile', 'Kazakhstan', 'Guatemala', 'Malawi', 'Zambia', 'Netherlands', 'Ecuador', 'Cambodia', 'Chad', 'Zimbabwe', 'South Sudan', 'Rwanda', 'Benin', 'Haiti', 'Tunisia', 'Bolivia', 'Belgium', 'Cuba', 'Burundi', 'Greece', 'Czech Republic', 'Jordan', 'Dominican Republic', 'Portugal', 'Sweden', 'Azerbaijan', 'Hungary', 'United Arab Emirates', 'Belarus', 'Honduras', 'Israel', 'Tajikistan', 'Austria', 'Papua New Guinea', 'Switzerland', 'Sierra Leone', 'Togo', 'Congo (Kinshasa)', 'Paraguay', 'Gabon', 'Bulgaria', 'El Salvador', 'Libya', 'Nicaragua', 'Kyrgyzstan', 'Lebanon', 'Denmark', 'Singapore', 'Republic of Kosovo', 'Finland', 'Central African Republic', 'Slovakia', 'Norway', 'Eritrea', 'Costa Rica', 'New Zealand', 'Ireland', 'Oman', 'Liberia', 'Kuwait', 'Panama', 'Croatia', 'Mauritania', 'Uruguay', 'Bosnia and Herzegovina', 'Mongolia', 'Equatorial Guinea', 'Armenia', 'Lithuania', 'Qatar', 'Jamaica', 'Namibia', 'Botswana', 'Slovenia', 'Lesotho', 'Latvia', 'Comoros', 'Guinea-Bissau', 'Bahrain', 'Trinidad and Tobago', 'Mauritius', 'Djibouti', 'Fiji', 'Cyprus', 'Guyana', 'Bhutan', 'Montenegro', 'Luxembourg', 'Western Sahara', 'Suriname', 'Cape Verde', 'Malta', 'Belize', 'Bahamas', 'Maldives', 'Iceland', 'Barbados', 'Sao Tome and Principe', 'Saint Lucia', 'Saint Vincent and Grenadines', 'Grenada', 'Antigua and Barbuda', 'Seychelles', 'Andorra', 'Dominica', 'Saint Kitts and Nevis', 'Liechtenstein', 'Monaco', 'San Marino'])"
      ]
     },
     "execution_count": 73,
     "metadata": {},
     "output_type": "execute_result"
    }
   ],
   "source": [
    "c2pop.keys()"
   ]
  },
  {
   "cell_type": "code",
   "execution_count": 8,
   "metadata": {},
   "outputs": [],
   "source": [
    "c2pop_man={\n",
    "    \"China\":1402870000,\n",
    "    \"India\":1363010000,\n",
    "    \"United States of America\":331362000,\n",
    "    \"Russian Federation\":146793744,\n",
    "    \"Viet Nam\":95354000,\n",
    "    \"Iran, Islamic Republic of\":83489300,\n",
    "    \"France\":66992000,\n",
    "    \"United Kingdom\":66040229,\n",
    "    \"Tanzania, United Republic of\":55890747,\n",
    "    \"Korea (South)\":51811167,\n",
    "    \"Ukraine\":42101650,\n",
    "    \"Morocco\":35386900,\n",
    "    \"Venezuela (Bolivarian Republic)\":32219521,\n",
    "    \"Syrian Arab Republic (Syria)\":18499181,\n",
    "    \"Somalia\":15636171,\n",
    "    \"Serbia\":7001444,\n",
    "    \"Moldova\":3547539,\n",
    "    \"Georgia\":3723500,\n",
    "    \"Gambia\":2228075,\n",
    "    \"Estonia\":1324820,\n",
    "    \"Brunei Darussalam\":421300,\n",
    "    \"Congo (Brazzaville)\":5542197,\n",
    "    \"Swaziland\":8542323,\n",
    "    \"Palestinian Territory\":4976684,\n",
    "    \"Timor-Leste\":1268000,\n",
    "    \"Holy See (Vatican City State)\":800,\n",
    "    \"Lao PDR\":7123205,\n",
    "    \"Macedonia, Republic of\":2075301,\n",
    "    \"Côte d'Ivoire\":25070000 \n",
    "}\n",
    "from itertools import chain\n",
    "def dict_union(*args):\n",
    "    return dict(chain.from_iterable(d.items() for d in args))\n",
    "\n",
    "c2pop=dict_union(c2pop_auto,c2pop_man)\n",
    "for key in [i for i in g_dict.keys()]:\n",
    "    if key not in [i for i in c2pop.keys()]:\n",
    "        print(key)\n"
   ]
  },
  {
   "cell_type": "code",
   "execution_count": 21,
   "metadata": {},
   "outputs": [
    {
     "name": "stdout",
     "output_type": "stream",
     "text": [
      "{'China': 1402870000, 'India': 1363010000, 'United States of America': 331362000, 'Indonesia': 268074600, 'Brazil': 211563000, 'Pakistan': 208857000, 'Nigeria': 200962417, 'Bangladesh': 168698000, 'Guinea': 146793744, 'Mexico': 126577691, 'Japan': 126200000, 'Philippines': 109483000, 'Egypt': 100605100, 'Ethiopia': 98665000, 'Viet Nam': 95354000, 'Taiwan, Republic of China': 86727573, 'Germany': 82979100, 'Iraq': 83489300, 'Turkey': 82003882, 'France': 66992000, 'Thailand': 66511080, 'United Kingdom': 66040229, 'Italy': 60375749, 'South Africa': 57725600, 'Albania': 55890747, 'Myanmar': 54339766, 'Kenya': 52214791, 'Colombia': 49849818, 'Spain': 46733038, 'Argentina': 44938712, 'Algeria': 43378027, 'Ukraine': 42101650, 'Sudan': 42528282, 'Uganda': 40006700, 'Poland': 38413000, 'Canada': 37922800, 'Morocco': 35386900, 'Uzbekistan': 34192718, 'Saudi Arabia': 33413660, 'Malaysia': 33201700, 'Peru': 32495510, 'Senegal': 32219521, 'Afghanistan': 31575018, 'Ghana': 30280811, 'Angola': 30175553, 'Nepal': 29609623, 'Yemen': 29579986, 'Mozambique': 27909798, 'Australia': 25799100, 'Madagascar': 25263000, 'Cameroon': 24348251, 'Niger': 22314743, 'Sri Lanka': 21670112, 'Burkina Faso': 20870060, 'Mali': 19973000, 'Romania': 19523621, 'Chile': 19107216, 'Serbia': 7001444, 'Kazakhstan': 18710200, 'Guatemala': 17679735, 'Malawi': 17563749, 'Zambia': 17381168, 'Netherlands': 17402000, 'Ecuador': 17495900, 'Cambodia': 16289270, 'Chad': 15692969, 'Somalia': 15636171, 'Zimbabwe': 15159624, 'South Sudan': 12778250, 'Rwanda': 12374397, 'Benin': 11733059, 'Haiti': 11577779, 'Tunisia': 11551448, 'Bolivia': 11469896, 'Belgium': 11463692, 'Cuba': 11221060, 'Burundi': 10953317, 'Greece': 10741165, 'Czech Republic': 10649800, 'Jordan': 10691400, 'Dominican Republic': 10358320, 'Portugal': 10291027, 'Sweden': 10255102, 'Azerbaijan': 9981457, 'Hungary': 9778371, 'United Arab Emirates': 9682088, 'Belarus': 9465300, 'Honduras': 9158345, 'Israel': 9202530, 'Tajikistan': 8931000, 'Austria': 8859992, 'Papua New Guinea': 8558800, 'Switzerland': 8542323, 'Sierra Leone': 7901454, 'Togo': 7538000, 'Congo (Kinshasa)': 7482500, 'Paraguay': 7152703, 'Gabon': 7123205, 'Bulgaria': 7000039, 'El Salvador': 6704864, 'Libya': 6569864, 'Nicaragua': 6393824, 'Kyrgyzstan': 6389500, 'Lebanon': 6065922, 'Denmark': 5811413, 'Singapore': 5638700, 'Republic of Kosovo': 5542197, 'Finland': 5518393, 'Central African Republic': 5496011, 'Slovakia': 5450421, 'Norway': 5334762, 'Eritrea': 5309659, 'Costa Rica': 5058007, 'New Zealand': 5068840, 'Ireland': 4857000, 'Oman': 4686829, 'Liberia': 4475353, 'Kuwait': 4420110, 'Panama': 4218808, 'Croatia': 4105493, 'Mauritania': 4077347, 'Georgia': 3723500, 'Moldova': 3547539, 'Uruguay': 3518552, 'Bosnia and Herzegovina': 3502550, 'Mongolia': 3320097, 'Equatorial Guinea': 3195153, 'Armenia': 2962100, 'Lithuania': 2790472, 'Qatar': 2772294, 'Jamaica': 2726667, 'Namibia': 2458936, 'Botswana': 2338851, 'Gambia': 2228075, 'Slovenia': 2080908, 'Lesotho': 2007201, 'Latvia': 1915100, 'Comoros': 1798506, 'Guinea-Bissau': 1604528, 'Bahrain': 1543300, 'Estonia': 1324820, 'Trinidad and Tobago': 1359193, 'Mauritius': 1265577, 'Djibouti': 1078373, 'Fiji': 884887, 'Cyprus': 864200, 'Guyana': 786508, 'Bhutan': 741672, 'Montenegro': 622359, 'Luxembourg': 613894, 'Western Sahara': 582478, 'Suriname': 573085, 'Cape Verde': 550483, 'Malta': 475701, 'Belize': 398050, 'Bahamas': 385340, 'Maldives': 378114, 'Iceland': 358780, 'Brunei Darussalam': 421300, 'Barbados': 287010, 'Sao Tome and Principe': 201784, 'Saint Lucia': 180454, 'Saint Vincent and Grenadines': 110520, 'Grenada': 108825, 'Korea (South)': 51811167, 'Antigua and Barbuda': 104084, 'Seychelles': 96762, 'Andorra': 76177, 'Dominica': 74679, 'Saint Kitts and Nevis': 56345, 'Liechtenstein': 38380, 'Monaco': 38300, 'San Marino': 35746, 'Russian Federation': 146793744, 'Iran, Islamic Republic of': 83489300, 'Tanzania, United Republic of': 55890747, 'Venezuela (Bolivarian Republic)': 32219521, 'Syrian Arab Republic (Syria)': 18499181, 'Congo (Brazzaville)': 5542197, 'Swaziland': 8542323, 'Palestinian Territory': 4976684, 'Timor-Leste': 1268000, 'Holy See (Vatican City State)': 800, 'Lao PDR': 7123205, 'Macedonia, Republic of': 2075301, \"Côte d'Ivoire\": 25070000}\n"
     ]
    }
   ],
   "source": [
    "print(c2pop)"
   ]
  },
  {
   "cell_type": "code",
   "execution_count": 11,
   "metadata": {},
   "outputs": [
    {
     "data": {
      "text/plain": [
       "True"
      ]
     },
     "execution_count": 11,
     "metadata": {},
     "output_type": "execute_result"
    }
   ],
   "source": [
    "c2pop.keys()==g_dict.keys()"
   ]
  },
  {
   "cell_type": "markdown",
   "metadata": {},
   "source": [
    "reduction_in_activity_percentage={} # reduction in activity since g_dict is more than 0.012% of the population\n",
    "multiply g_dict by (sp_dict+reduction_in_activity_percentage)\n",
    "then scale between 0-10\n"
   ]
  },
  {
   "cell_type": "code",
   "execution_count": 14,
   "metadata": {},
   "outputs": [],
   "source": [
    "def ignore_timestamp_zone(stamp):\n",
    "    return pd.Timestamp(\"{0}-{1}-{2}\".format(stamp.year,stamp.month,stamp.day))\n",
    "def add_utc_stamp(stamp):\n",
    "    return pd.Timestamp(\"{0}-{1}-{2}\".format(stamp.year,stamp.month,stamp.day),tz=\"UTC\")"
   ]
  },
  {
   "cell_type": "code",
   "execution_count": 12,
   "metadata": {},
   "outputs": [],
   "source": [
    "it_is_srys={}\n",
    "for country in g_dict.keys():\n",
    "    try:\n",
    "        pop_thresh=c2pop[country]*0.00012\n",
    "        \n",
    "    except KeyError:\n",
    "        print(\"skipping\",country)\n",
    "        continue\n",
    "    for date in g_dict[country].keys():\n",
    "        if g_dict[country][date]>pop_thresh:\n",
    "            if country not in it_is_srys.keys():\n",
    "                    it_is_srys.update({country:date})\n",
    "                    \n",
    "for country in g_dict.keys():\n",
    "    if country not in it_is_srys.keys():\n",
    "            it_is_srys.update({country:np.nan})\n",
    "            "
   ]
  },
  {
   "cell_type": "code",
   "execution_count": 15,
   "metadata": {},
   "outputs": [],
   "source": [
    "new_no2_dict={} #invert the dict so it's name->dates->no2_mean instead of dates->names->no2_mean\n",
    "for date in no2_dict.keys():\n",
    "    for c_name in no2_dict[date].keys():\n",
    "        utc_date=add_utc_stamp(date)\n",
    "        if c_name in new_no2_dict.keys():\n",
    "            new_no2_dict[c_name].update({utc_date:no2_dict[date][c_name]})\n",
    "        else:\n",
    "            new_no2_dict.update({c_name:{utc_date:no2_dict[date][c_name]}})"
   ]
  },
  {
   "cell_type": "code",
   "execution_count": 16,
   "metadata": {
    "scrolled": true
   },
   "outputs": [
    {
     "name": "stderr",
     "output_type": "stream",
     "text": [
      "/home/daruis1/.local/lib/python3.6/site-packages/numpy/core/fromnumeric.py:3335: RuntimeWarning: Mean of empty slice.\n",
      "  out=out, **kwargs)\n",
      "/home/daruis1/.local/lib/python3.6/site-packages/numpy/core/_methods.py:161: RuntimeWarning: invalid value encountered in double_scalars\n",
      "  ret = ret.dtype.type(ret / rcount)\n"
     ]
    }
   ],
   "source": [
    "b4_turning_point={}\n",
    "after_turning_point={}\n",
    "\n",
    "for c_name in new_no2_dict.keys():\n",
    "    date2meanNo2=new_no2_dict[c_name]\n",
    "    means_b4=np.zeros(shape=(0,))\n",
    "    means_after=np.zeros(shape=(0,))\n",
    "    nd=False\n",
    "    for date in date2meanNo2.keys():\n",
    "        try:\n",
    "            if np.isnan(it_is_srys[c_name]):\n",
    "                nd=True\n",
    "                continue\n",
    "        except:\n",
    "            pass\n",
    "        if date>=it_is_srys[c_name]: #if it's after it being srys\n",
    "            means_b4=np.hstack([means_b4,[date2meanNo2[date]]])\n",
    "        else:\n",
    "            means_after=np.hstack([means_after,[date2meanNo2[date]]])\n",
    "    \n",
    "    means_b4=means_b4[np.logical_not(np.isnan(means_b4))]\n",
    "    means_after=means_after[np.logical_not(np.isnan(means_after))]\n",
    "    \n",
    "    if nd==False:\n",
    "        b4_turning_point.update({c_name:np.mean(means_b4)})\n",
    "        after_turning_point.update({c_name:np.mean(means_after)})\n",
    "    else:\n",
    "        b4_turning_point.update({c_name:0})\n",
    "        after_turning_point.update({c_name:0})\n",
    "    "
   ]
  },
  {
   "cell_type": "code",
   "execution_count": 17,
   "metadata": {},
   "outputs": [],
   "source": [
    "act_diff_ratio={} # the lower the score the better\n",
    "for c_name in b4_turning_point.keys():\n",
    "    if b4_turning_point[c_name]==0:\n",
    "        act_diff_ratio.update({c_name:0})\n",
    "        continue\n",
    "    act_diff_ratio.update({c_name: \\\n",
    "            (b4_turning_point[c_name]-after_turning_point[c_name])\n",
    "            })"
   ]
  },
  {
   "cell_type": "code",
   "execution_count": 18,
   "metadata": {},
   "outputs": [],
   "source": [
    "CASPER_INDEX={}\n",
    "w_act_diff_ratio=.6\n",
    "w_search_pen=.4\n",
    "w_growth=.8\n",
    "\n",
    "def calc_casper(act_diff_ratio,growth,search_pen):\n",
    "    return (w_growth*sum(growth))*((w_search_pen*search_pen)+(w_act_diff_ratio*act_diff_ratio))\n",
    "    \n",
    "for c_name in act_diff_ratio.keys():\n",
    "    \n",
    "    growth_over_time=[i[1] for i in g_dict[c_name].items()]\n",
    "    try:\n",
    "        search_pen=sp_dict[c_name]\n",
    "    except KeyError:\n",
    "        pass\n",
    "    casper_score=calc_casper(act_diff_ratio[c_name],growth_over_time,search_pen)\n",
    "    CASPER_INDEX.update({c_name:casper_score})"
   ]
  },
  {
   "cell_type": "code",
   "execution_count": 19,
   "metadata": {
    "scrolled": true
   },
   "outputs": [
    {
     "data": {
      "text/plain": [
       "{'Afghanistan': 834304.0000000001,\n",
       " 'Albania': 0.0,\n",
       " 'Algeria': 0.0,\n",
       " 'Andorra': -90.89762290658777,\n",
       " 'Angola': 0.0,\n",
       " 'Antigua and Barbuda': 0.0,\n",
       " 'Argentina': 0.0,\n",
       " 'Armenia': 72.87661978949629,\n",
       " 'Australia': 3488691.5200000005,\n",
       " 'Austria': -11470.372378746722,\n",
       " 'Azerbaijan': 0.0,\n",
       " 'Bahamas': 0.0,\n",
       " 'Bahrain': -1948.8942800911095,\n",
       " 'Bangladesh': 2580544.0,\n",
       " 'Barbados': 0.0,\n",
       " 'Belarus': -15681.88700154561,\n",
       " 'Belgium': -55823.02499197282,\n",
       " 'Belize': 0.0,\n",
       " 'Benin': 0.0,\n",
       " 'Bhutan': 0.0,\n",
       " 'Bolivia': 0.0,\n",
       " 'Bosnia and Herzegovina': 0.0,\n",
       " 'Botswana': 0.0,\n",
       " 'Brazil': nan,\n",
       " 'Brunei Darussalam': 9024.0,\n",
       " 'Bulgaria': 0.0,\n",
       " 'Burkina Faso': 0.0,\n",
       " 'Burundi': 0.0,\n",
       " 'Cambodia': 0.0,\n",
       " 'Cameroon': 347904.0,\n",
       " 'Canada': 36598035.21409994,\n",
       " 'Cape Verde': 0.0,\n",
       " 'Central African Republic': 0.0,\n",
       " 'Chad': 0.0,\n",
       " 'Chile': -223.62538127634983,\n",
       " 'China': -0.0,\n",
       " 'Colombia': 0.0,\n",
       " 'Comoros': 0.0,\n",
       " 'Congo (Brazzaville)': 0.0,\n",
       " 'Congo (Kinshasa)': 0.0,\n",
       " 'Costa Rica': 0.0,\n",
       " \"Côte d'Ivoire\": 0.0,\n",
       " 'Croatia': 0.0,\n",
       " 'Cuba': 0.0,\n",
       " 'Cyprus': 0.0,\n",
       " 'Czech Republic': 0.0,\n",
       " 'Denmark': -14385.171383453657,\n",
       " 'Djibouti': 395.4212037843922,\n",
       " 'Dominica': 0.0,\n",
       " 'Dominican Republic': 0.0,\n",
       " 'Ecuador': 1957.9440260485185,\n",
       " 'Egypt': 1330752.0,\n",
       " 'El Salvador': 0.0,\n",
       " 'Equatorial Guinea': 0.0,\n",
       " 'Eritrea': 0.0,\n",
       " 'Estonia': 0.0,\n",
       " 'Ethiopia': 53184.00000000001,\n",
       " 'Fiji': 0.0,\n",
       " 'Finland': 0.0,\n",
       " 'France': 36617096.33233432,\n",
       " 'Gabon': 0.0,\n",
       " 'Gambia': 1600.0,\n",
       " 'Georgia': 0.0,\n",
       " 'Germany': 20639162.880000003,\n",
       " 'Ghana': 549185.6000000001,\n",
       " 'Greece': 0.0,\n",
       " 'Grenada': 0.0,\n",
       " 'Guatemala': 0.0,\n",
       " 'Guinea': 0.0,\n",
       " 'Guinea-Bissau': 0.0,\n",
       " 'Guyana': 0.0,\n",
       " 'Haiti': 0.0,\n",
       " 'Holy See (Vatican City State)': -1.5159545192929806,\n",
       " 'Honduras': 0.0,\n",
       " 'Hungary': 0.0,\n",
       " 'Iceland': 1534.6606201881073,\n",
       " 'India': 17253067.520000003,\n",
       " 'Indonesia': 1570432.0,\n",
       " 'Iran, Islamic Republic of': 9206336.0,\n",
       " 'Iraq': 0.0,\n",
       " 'Ireland': 4540046.630927144,\n",
       " 'Israel': 1957.9619385361102,\n",
       " 'Italy': 0.0,\n",
       " 'Jamaica': 0.0,\n",
       " 'Japan': 0.0,\n",
       " 'Jordan': 0.0,\n",
       " 'Kazakhstan': 0.0,\n",
       " 'Kenya': 206068.48000000004,\n",
       " 'Korea (South)': 1452031.3600000003,\n",
       " 'Kuwait': 429.40325279635226,\n",
       " 'Kyrgyzstan': 0.0,\n",
       " 'Lao PDR': 0.0,\n",
       " 'Latvia': 0.0,\n",
       " 'Lebanon': 74752.0,\n",
       " 'Lesotho': 0.0,\n",
       " 'Liberia': 0.0,\n",
       " 'Libya': 0.0,\n",
       " 'Liechtenstein': -51.02926289977533,\n",
       " 'Lithuania': 0.0,\n",
       " 'Luxembourg': -3338.187014119732,\n",
       " 'Macedonia, Republic of': 0.0,\n",
       " 'Madagascar': 0.0,\n",
       " 'Malawi': 0.0,\n",
       " 'Malaysia': 488256.00000000006,\n",
       " 'Maldives': 66.53717470659431,\n",
       " 'Mali': 0.0,\n",
       " 'Malta': 0.0,\n",
       " 'Mauritania': 0.0,\n",
       " 'Mauritius': 0.0,\n",
       " 'Mexico': 0.0,\n",
       " 'Moldova': 0.0,\n",
       " 'Monaco': -46.62894225980749,\n",
       " 'Mongolia': 0.0,\n",
       " 'Montenegro': 0.0,\n",
       " 'Morocco': 0.0,\n",
       " 'Mozambique': 0.0,\n",
       " 'Myanmar': 0.0,\n",
       " 'Namibia': 0.0,\n",
       " 'Nepal': 0.0,\n",
       " 'Netherlands': -67889.12253502932,\n",
       " 'New Zealand': 305612.8,\n",
       " 'Nicaragua': 0.0,\n",
       " 'Niger': 0.0,\n",
       " 'Nigeria': 707494.4,\n",
       " 'Norway': 0.0,\n",
       " 'Oman': nan,\n",
       " 'Pakistan': 3977305.9200000004,\n",
       " 'Palestinian Territory': 28972.160000000003,\n",
       " 'Panama': 0.0,\n",
       " 'Papua New Guinea': 0.0,\n",
       " 'Paraguay': 0.0,\n",
       " 'Peru': 3764.6578850395013,\n",
       " 'Philippines': 1162241.2800000003,\n",
       " 'Poland': 0.0,\n",
       " 'Portugal': 1280.5934511063056,\n",
       " 'Qatar': 3252080.4202898727,\n",
       " 'Republic of Kosovo': 67072.0,\n",
       " 'Romania': 0.0,\n",
       " 'Russian Federation': 0.0,\n",
       " 'Rwanda': 0.0,\n",
       " 'Saint Kitts and Nevis': 0.0,\n",
       " 'Saint Lucia': 0.0,\n",
       " 'Saint Vincent and Grenadines': 0.0,\n",
       " 'San Marino': -521.5049641942678,\n",
       " 'Sao Tome and Principe': 42.29953910605,\n",
       " 'Saudi Arabia': 5131840.0,\n",
       " 'Senegal': 0.0,\n",
       " 'Serbia': 0.0,\n",
       " 'Seychelles': 0.0,\n",
       " 'Sierra Leone': 51968.0,\n",
       " 'Singapore': 446.3921478713913,\n",
       " 'Slovakia': 0.0,\n",
       " 'Slovenia': 0.0,\n",
       " 'Somalia': 0.0,\n",
       " 'South Africa': 3639118.4000000004,\n",
       " 'South Sudan': 0.0,\n",
       " 'Spain': 33836.6388605883,\n",
       " 'Sri Lanka': 0.0,\n",
       " 'Sudan': 0.0,\n",
       " 'Suriname': 0.0,\n",
       " 'Swaziland': 0.0,\n",
       " 'Sweden': 0.0,\n",
       " 'Switzerland': 1954016.3610569288,\n",
       " 'Syrian Arab Republic (Syria)': 7808.000000000001,\n",
       " 'Taiwan, Republic of China': 28160.0,\n",
       " 'Tajikistan': 0.0,\n",
       " 'Tanzania, United Republic of': 0.0,\n",
       " 'Thailand': 0.0,\n",
       " 'Timor-Leste': 0.0,\n",
       " 'Togo': 0.0,\n",
       " 'Trinidad and Tobago': 0.0,\n",
       " 'Tunisia': 0.0,\n",
       " 'Turkey': 10302656.0,\n",
       " 'Uganda': 20288.0,\n",
       " 'Ukraine': 0.0,\n",
       " 'United Arab Emirates': 3726865.920000001,\n",
       " 'United Kingdom': -125667920.38787322,\n",
       " 'United States of America': -3069480.9600000004,\n",
       " 'Uruguay': 0.0,\n",
       " 'Uzbekistan': 0.0,\n",
       " 'Venezuela (Bolivarian Republic)': 0.0,\n",
       " 'Viet Nam': 0.0,\n",
       " 'Western Sahara': 0.0,\n",
       " 'Yemen': 0.0,\n",
       " 'Zambia': 67648.0,\n",
       " 'Zimbabwe': 0.0}"
      ]
     },
     "execution_count": 19,
     "metadata": {},
     "output_type": "execute_result"
    }
   ],
   "source": [
    "CASPER_INDEX"
   ]
  },
  {
   "cell_type": "code",
   "execution_count": 194,
   "metadata": {},
   "outputs": [
    {
     "data": {
      "text/plain": [
       "3.247660925393389"
      ]
     },
     "execution_count": 194,
     "metadata": {},
     "output_type": "execute_result"
    }
   ],
   "source": [
    "act_diff_per[\"Egypt\"]"
   ]
  },
  {
   "cell_type": "code",
   "execution_count": 195,
   "metadata": {},
   "outputs": [
    {
     "data": {
      "text/plain": [
       "4.528118307313536"
      ]
     },
     "execution_count": 195,
     "metadata": {},
     "output_type": "execute_result"
    }
   ],
   "source": [
    "act_diff_per[\"United States of America\"]"
   ]
  },
  {
   "cell_type": "code",
   "execution_count": 185,
   "metadata": {},
   "outputs": [
    {
     "data": {
      "text/plain": [
       "4.192652273355415"
      ]
     },
     "execution_count": 185,
     "metadata": {},
     "output_type": "execute_result"
    }
   ],
   "source": [
    "b4_turning_point[\"United States of America\"]"
   ]
  },
  {
   "cell_type": "code",
   "execution_count": 186,
   "metadata": {},
   "outputs": [
    {
     "data": {
      "text/plain": [
       "4.633192711049197"
      ]
     },
     "execution_count": 186,
     "metadata": {},
     "output_type": "execute_result"
    }
   ],
   "source": [
    "after_turning_point[\"United States of America\"]"
   ]
  },
  {
   "cell_type": "code",
   "execution_count": 243,
   "metadata": {},
   "outputs": [],
   "source": []
  },
  {
   "cell_type": "code",
   "execution_count": 270,
   "metadata": {},
   "outputs": [],
   "source": [
    "CASPER_INDEX_scaled={}\n",
    "casper_array=np.array([[i[0],float(i[1])] for i in CASPER_INDEX.items()])\n",
    "def rescale_linear(array, new_min, new_max):\n",
    "    \"\"\"Rescale an arrary linearly.\"\"\"\n",
    "    minimum, maximum = np.min(array), np.max(array)\n",
    "    m = (new_max - new_min) / (maximum - minimum)\n",
    "    b = new_min - m * minimum\n",
    "    return m * array + b\n",
    "\n",
    "x=np.array([float(i) for i in casper_array[:,1]])\n",
    "c_idx_keys=[i for i in casper_array[:,0]] #[i for i in CASPER_INDEX.keys()]\n",
    "for i in range(len(c_idx_keys)):\n",
    "    CASPER_INDEX_scaled.update({c_idx_keys[i]:rescale_linear(x,0,1000)[i]})\n"
   ]
  },
  {
   "cell_type": "code",
   "execution_count": null,
   "metadata": {},
   "outputs": [],
   "source": []
  },
  {
   "cell_type": "code",
   "execution_count": 271,
   "metadata": {},
   "outputs": [
    {
     "data": {
      "text/plain": [
       "{'Afghanistan': 779.543956304831,\n",
       " 'Albania': 774.3736076132578,\n",
       " 'Algeria': 774.3736076132578,\n",
       " 'Andorra': 774.3736076132578,\n",
       " 'Angola': 774.3736076132578,\n",
       " 'Antigua and Barbuda': 774.3736076132578,\n",
       " 'Argentina': 774.3530750566492,\n",
       " 'Armenia': 774.3736076132578,\n",
       " 'Australia': 795.8332283574325,\n",
       " 'Austria': 774.3012582610911,\n",
       " 'Azerbaijan': 774.3736076132578,\n",
       " 'Bahamas': 774.3736076132578,\n",
       " 'Bahrain': 774.3736076132578,\n",
       " 'Bangladesh': 790.127801697713,\n",
       " 'Barbados': 774.3736076132578,\n",
       " 'Belarus': 774.2630731490643,\n",
       " 'Belgium': 774.0206747289651,\n",
       " 'Belize': 774.3736076132578,\n",
       " 'Benin': 774.3736076132578,\n",
       " 'Bhutan': 774.3736076132578,\n",
       " 'Bolivia': 774.3670107777132,\n",
       " 'Bosnia and Herzegovina': 774.3736076132578,\n",
       " 'Botswana': 774.3736076132578,\n",
       " 'Brazil': 946.8382547689507,\n",
       " 'Brunei Darussalam': 774.4292114914687,\n",
       " 'Bulgaria': 774.3736076132578,\n",
       " 'Burkina Faso': 774.3736076132578,\n",
       " 'Burundi': 774.3736076132578,\n",
       " 'Cambodia': 774.3736076132578,\n",
       " 'Cameroon': 776.5104441772442,\n",
       " 'Canada': 999.8407773509371,\n",
       " 'Cape Verde': 774.3736076132578,\n",
       " 'Central African Republic': 774.3736076132578,\n",
       " 'Chad': 774.3736076132578,\n",
       " 'Chile': 774.2923296203013,\n",
       " 'China': 777.4141073163291,\n",
       " 'Colombia': 774.38481051084,\n",
       " 'Comoros': 774.3736076132578,\n",
       " 'Congo (Brazzaville)': 774.3736076132578,\n",
       " 'Congo (Kinshasa)': 774.3736076132578,\n",
       " 'Costa Rica': 774.3736076132578,\n",
       " \"Côte d'Ivoire\": 774.3736076132578,\n",
       " 'Croatia': 774.3736076132578,\n",
       " 'Cuba': 774.3736076132578,\n",
       " 'Cyprus': 774.3736076132578,\n",
       " 'Czech Republic': 774.3736076132578,\n",
       " 'Denmark': 774.2849693910008,\n",
       " 'Djibouti': 774.3736076132578,\n",
       " 'Dominica': 774.3736076132578,\n",
       " 'Dominican Republic': 774.3786117910653,\n",
       " 'Ecuador': 774.3780688033725,\n",
       " 'Egypt': 782.608504096634,\n",
       " 'El Salvador': 774.3736076132578,\n",
       " 'Equatorial Guinea': 774.3736076132578,\n",
       " 'Eritrea': 774.3736076132578,\n",
       " 'Estonia': 774.3736076132578,\n",
       " 'Ethiopia': 774.7013155763302,\n",
       " 'Fiji': 774.3736076132578,\n",
       " 'Finland': 774.3736076132578,\n",
       " 'France': 1000.0,\n",
       " 'Gabon': 774.3736076132578,\n",
       " 'Gambia': 774.3834664569123,\n",
       " 'Georgia': 774.3736076132578,\n",
       " 'Germany': 899.5363682085326,\n",
       " 'Ghana': 777.7455297537424,\n",
       " 'Greece': 774.3736076132578,\n",
       " 'Grenada': 774.3736076132578,\n",
       " 'Guatemala': 774.3736076132578,\n",
       " 'Guinea': 774.3736076132578,\n",
       " 'Guinea-Bissau': 774.3736076132578,\n",
       " 'Guyana': 774.3736076132578,\n",
       " 'Haiti': 774.3736076132578,\n",
       " 'Holy See (Vatican City State)': 774.3736076132578,\n",
       " 'Honduras': 774.3736076132578,\n",
       " 'Hungary': 774.3736076132578,\n",
       " 'Iceland': 774.3736076132578,\n",
       " 'India': 880.8845767565683,\n",
       " 'Indonesia': 784.0649530419226,\n",
       " 'Iran, Islamic Republic of': 831.0142087384316,\n",
       " 'Iraq': 774.3736076132578,\n",
       " 'Ireland': 802.3483638120209,\n",
       " 'Israel': 774.3856721386536,\n",
       " 'Italy': 774.3391417590906,\n",
       " 'Jamaica': 774.3736076132578,\n",
       " 'Japan': 774.3481954147315,\n",
       " 'Jordan': 774.3736076132578,\n",
       " 'Kazakhstan': 774.4022179043048,\n",
       " 'Kenya': 775.6433556922709,\n",
       " 'Korea (South)': 783.2572456849728,\n",
       " 'Kuwait': 774.3741569891249,\n",
       " 'Kyrgyzstan': 774.3736076132578,\n",
       " 'Lao PDR': 774.3736076132578,\n",
       " 'Latvia': 774.3736076132578,\n",
       " 'Lebanon': 774.8342127887917,\n",
       " 'Lesotho': 774.3736076132578,\n",
       " 'Liberia': 774.3736076132578,\n",
       " 'Libya': 774.3736076132578,\n",
       " 'Liechtenstein': 774.3736076132578,\n",
       " 'Lithuania': 774.3736076132578,\n",
       " 'Luxembourg': 774.3736076132578,\n",
       " 'Macedonia, Republic of': 774.3736076132578,\n",
       " 'Madagascar': 774.3736076132578,\n",
       " 'Malawi': 774.3736076132578,\n",
       " 'Malaysia': 777.3821323428363,\n",
       " 'Maldives': 774.3736076132578,\n",
       " 'Mali': 774.3736076132578,\n",
       " 'Malta': 774.3736076132578,\n",
       " 'Mauritania': 774.3736076132578,\n",
       " 'Mauritius': 774.3736076132578,\n",
       " 'Mexico': 774.3412451714315,\n",
       " 'Moldova': 774.3736076132578,\n",
       " 'Monaco': 774.3736076132578,\n",
       " 'Mongolia': 774.3736076132578,\n",
       " 'Montenegro': 774.3736076132578,\n",
       " 'Morocco': 774.3736076132578,\n",
       " 'Mozambique': 774.3736076132578,\n",
       " 'Myanmar': 774.3736076132578,\n",
       " 'Namibia': 774.3736076132578,\n",
       " 'Nepal': 774.3736076132578,\n",
       " 'Netherlands': 773.9552899601906,\n",
       " 'New Zealand': 776.2567256219985,\n",
       " 'Nicaragua': 774.3736076132578,\n",
       " 'Niger': 774.3736076132578,\n",
       " 'Nigeria': 778.7330305357375,\n",
       " 'Norway': 774.3736076132578,\n",
       " 'Oman': 777.9411739244568,\n",
       " 'Pakistan': 798.9728441560018,\n",
       " 'Palestinian Territory': 774.5521276106143,\n",
       " 'Panama': 774.3736076132578,\n",
       " 'Papua New Guinea': 774.3736076132578,\n",
       " 'Paraguay': 774.3736076132578,\n",
       " 'Peru': 774.3434658338633,\n",
       " 'Philippines': 781.5487858270332,\n",
       " 'Poland': 774.2025914905794,\n",
       " 'Portugal': 774.3898460578315,\n",
       " 'Qatar': 794.4145776965793,\n",
       " 'Republic of Kosovo': 774.7868903392505,\n",
       " 'Romania': 774.3791562085274,\n",
       " 'Russian Federation': 776.2938771979356,\n",
       " 'Rwanda': 774.3736076132578,\n",
       " 'Saint Kitts and Nevis': 774.3736076132578,\n",
       " 'Saint Lucia': 774.3736076132578,\n",
       " 'Saint Vincent and Grenadines': 774.3736076132578,\n",
       " 'San Marino': 774.3736076132578,\n",
       " 'Sao Tome and Principe': 774.3736076132578,\n",
       " 'Saudi Arabia': 806.0323666607131,\n",
       " 'Senegal': 774.3736076132578,\n",
       " 'Serbia': 774.3736076132578,\n",
       " 'Seychelles': 774.3736076132578,\n",
       " 'Sierra Leone': 774.6938228551529,\n",
       " 'Singapore': 774.3763581822543,\n",
       " 'Slovakia': 774.3736076132578,\n",
       " 'Slovenia': 774.3736076132578,\n",
       " 'Somalia': 774.3736076132578,\n",
       " 'South Africa': 796.7769991602435,\n",
       " 'South Sudan': 774.3736076132578,\n",
       " 'Spain': 774.5681946854828,\n",
       " 'Sri Lanka': 774.3736076132578,\n",
       " 'Sudan': 774.3736076132578,\n",
       " 'Suriname': 774.3736076132578,\n",
       " 'Swaziland': 774.3736076132578,\n",
       " 'Sweden': 774.3996892722244,\n",
       " 'Switzerland': 786.4128095910037,\n",
       " 'Syrian Arab Republic (Syria)': 774.4217187702914,\n",
       " 'Taiwan, Republic of China': 774.5471232615754,\n",
       " 'Tajikistan': 774.3736076132578,\n",
       " 'Tanzania, United Republic of': 774.3736076132578,\n",
       " 'Thailand': 774.3736076132578,\n",
       " 'Timor-Leste': 774.3736076132578,\n",
       " 'Togo': 774.3736076132578,\n",
       " 'Trinidad and Tobago': 774.3736076132578,\n",
       " 'Tunisia': 774.3736076132578,\n",
       " 'Turkey': 838.0082393369116,\n",
       " 'Uganda': 774.4986177507957,\n",
       " 'Ukraine': 774.3919412034159,\n",
       " 'United Arab Emirates': 797.3420927467852,\n",
       " 'United Kingdom': 0.0,\n",
       " 'United States of America': 755.4829149785247,\n",
       " 'Uruguay': 774.3736076132578,\n",
       " 'Uzbekistan': 774.3736076132578,\n",
       " 'Venezuela (Bolivarian Republic)': 774.3736076132578,\n",
       " 'Viet Nam': 774.3736076132578,\n",
       " 'Western Sahara': 774.3736076132578,\n",
       " 'Yemen': 774.3736076132578,\n",
       " 'Zambia': 774.790439522966,\n",
       " 'Zimbabwe': 774.3736076132578}"
      ]
     },
     "execution_count": 271,
     "metadata": {},
     "output_type": "execute_result"
    }
   ],
   "source": [
    "CASPER_INDEX_scaled"
   ]
  }
 ],
 "metadata": {
  "kernelspec": {
   "display_name": "Python 3",
   "language": "python",
   "name": "python3"
  },
  "language_info": {
   "codemirror_mode": {
    "name": "ipython",
    "version": 3
   },
   "file_extension": ".py",
   "mimetype": "text/x-python",
   "name": "python",
   "nbconvert_exporter": "python",
   "pygments_lexer": "ipython3",
   "version": "3.6.9"
  }
 },
 "nbformat": 4,
 "nbformat_minor": 2
}
